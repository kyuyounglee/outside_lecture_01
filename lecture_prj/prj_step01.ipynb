{
 "cells": [
  {
   "cell_type": "code",
   "execution_count": 1,
   "id": "4ada228c",
   "metadata": {},
   "outputs": [
    {
     "data": {
      "text/plain": [
       "True"
      ]
     },
     "execution_count": 1,
     "metadata": {},
     "output_type": "execute_result"
    }
   ],
   "source": [
    "from dotenv import load_dotenv\n",
    "\n",
    "load_dotenv()"
   ]
  },
  {
   "cell_type": "code",
   "execution_count": 2,
   "id": "5cd2e203",
   "metadata": {},
   "outputs": [],
   "source": [
    "from langchain_openai import ChatOpenAI\n",
    "\n",
    "llm = ChatOpenAI(model='gpt-4o-mini', temperature=0)"
   ]
  },
  {
   "cell_type": "code",
   "execution_count": 4,
   "id": "ca1e79c3",
   "metadata": {},
   "outputs": [],
   "source": [
    "from langchain.prompts import ChatPromptTemplate\n",
    "\n",
    "prompt = ChatPromptTemplate.from_messages([\n",
    "    (\"system\", \"\"\"\n",
    "        Want assistance provided by qualified individuals enabled with experience on understanding charts \n",
    "        using technical analysis tools while interpreting macroeconomic environment prevailing across world \n",
    "        consequently assisting customers acquire long term advantages requires clear verdicts therefore \n",
    "        seeking same through informed predictions written down precisely! First statement contains \n",
    "        following content- \"Can you tell us what future stock market looks like based upon current conditions ?\".\n",
    "    \"\"\"),\n",
    "    (\"user\", \"{company} 주식에 투자해도 될까요? 마크다운 형식으로 투자 보고서를 한글로 작성해 주세요.\")\n",
    "])"
   ]
  },
  {
   "cell_type": "code",
   "execution_count": 7,
   "id": "6c134798",
   "metadata": {},
   "outputs": [
    {
     "name": "stdout",
     "output_type": "stream",
     "text": [
      "# Nvidia 주식 투자 보고서\n",
      "\n",
      "## 1. 회사 개요\n",
      "Nvidia Corporation은 그래픽 처리 장치(GPU) 및 인공지능(AI) 기술의 선두주자로, 게임, 데이터 센터, 자율주행차, 그리고 AI 연구 등 다양한 분야에서 활용되고 있습니다. 최근 몇 년간 AI와 머신러닝의 발전으로 인해 Nvidia의 제품 수요가 급증하고 있습니다.\n",
      "\n",
      "## 2. 시장 동향\n",
      "### 2.1. AI 및 머신러닝의 성장\n",
      "- AI 기술의 발전으로 인해 Nvidia의 GPU 수요가 증가하고 있습니다.\n",
      "- 데이터 센터와 클라우드 컴퓨팅의 확산으로 Nvidia의 시장 점유율이 확대되고 있습니다.\n",
      "\n",
      "### 2.2. 반도체 산업\n",
      "- 반도체 공급망의 회복과 함께 Nvidia는 생산 능력을 확장하고 있습니다.\n",
      "- 글로벌 반도체 수요 증가로 인해 Nvidia의 매출이 증가할 것으로 예상됩니다.\n",
      "\n",
      "## 3. 재무 성과\n",
      "### 3.1. 매출 성장\n",
      "- 최근 분기 실적에서 Nvidia는 예상보다 높은 매출 성장을 기록했습니다.\n",
      "- AI 및 데이터 센터 부문에서의 성장이 주요 요인입니다.\n",
      "\n",
      "### 3.2. 이익률\n",
      "- Nvidia는 높은 이익률을 유지하고 있으며, 이는 지속적인 연구 개발 투자와 효율적인 운영 덕분입니다.\n",
      "\n",
      "## 4. 기술적 분석\n",
      "### 4.1. 주가 추세\n",
      "- Nvidia의 주가는 최근 몇 년간 상승세를 보였으며, 기술적 지표(예: 이동 평균선, RSI 등)도 긍정적인 신호를 나타내고 있습니다.\n",
      "- 단기 조정이 있을 수 있으나, 장기적으로는 상승세가 지속될 가능성이 높습니다.\n",
      "\n",
      "### 4.2. 저항 및 지지선\n",
      "- 현재 주가는 주요 저항선에 근접해 있으며, 이를 돌파할 경우 추가 상승이 예상됩니다.\n",
      "- 지지선은 최근 저점 근처에 위치하고 있어, 하락 리스크는 제한적입니다.\n",
      "\n",
      "## 5. 결론 및 투자 의견\n",
      "Nvidia는 AI 및 데이터 센터 시장의 성장으로 인해 긍정적인 전망을 가지고 있으며, 재무 성과 또한 안정적입니다. 기술적 분석 결과도 긍정적이므로, **Nvidia 주식에 대한 투자는 긍정적으로 평가됩니다**. 그러나 단기적인 변동성을 감안하여 적절한 매수 시점을 고려하는 것이 중요합니다.\n",
      "\n",
      "## 6. 투자 리스크\n",
      "- 반도체 산업의 변동성\n",
      "- 글로벌 경제 상황의 변화\n",
      "- 경쟁사의 기술 발전\n",
      "\n",
      "투자 결정을 내리기 전에 충분한 분석과 고려가 필요합니다.\n"
     ]
    }
   ],
   "source": [
    "from langchain_core.output_parsers import StrOutputParser\n",
    "\n",
    "output_parser = StrOutputParser()\n",
    "chain = prompt | llm | output_parser\n",
    "result = chain.invoke({\"company\": \"Nvidia\"})\n",
    "print(result)"
   ]
  }
 ],
 "metadata": {
  "kernelspec": {
   "display_name": "langchain_part_1",
   "language": "python",
   "name": "python3"
  },
  "language_info": {
   "codemirror_mode": {
    "name": "ipython",
    "version": 3
   },
   "file_extension": ".py",
   "mimetype": "text/x-python",
   "name": "python",
   "nbconvert_exporter": "python",
   "pygments_lexer": "ipython3",
   "version": "3.12.10"
  }
 },
 "nbformat": 4,
 "nbformat_minor": 5
}
