{
 "cells": [
  {
   "cell_type": "code",
   "execution_count": 3,
   "id": "4ada228c",
   "metadata": {},
   "outputs": [
    {
     "data": {
      "text/plain": [
       "True"
      ]
     },
     "execution_count": 3,
     "metadata": {},
     "output_type": "execute_result"
    }
   ],
   "source": [
    "from dotenv import load_dotenv\n",
    "\n",
    "load_dotenv()"
   ]
  },
  {
   "cell_type": "code",
   "execution_count": 4,
   "id": "5cd2e203",
   "metadata": {},
   "outputs": [],
   "source": [
    "from langchain_openai import ChatOpenAI\n",
    "\n",
    "llm = ChatOpenAI(model='gpt-4o-mini', temperature=0)"
   ]
  },
  {
   "cell_type": "code",
   "execution_count": 7,
   "id": "ca1e79c3",
   "metadata": {},
   "outputs": [],
   "source": [
    "from langchain.prompts import ChatPromptTemplate\n",
    "\n",
    "from stock_info import Stock\n",
    "\n",
    "prompt = ChatPromptTemplate.from_messages([\n",
    "    (\"system\", \"\"\"\n",
    "        Want assistance provided by qualified individuals enabled with experience on understanding charts \n",
    "        using technical analysis tools while interpreting macroeconomic environment prevailing across world \n",
    "        consequently assisting customers acquire long term advantages requires clear verdicts therefore \n",
    "        seeking same through informed predictions written down precisely! First statement contains \n",
    "        following content- \"Can you tell us what future stock market looks like based upon current conditions ?\".\n",
    "    \"\"\"),\n",
    "    (\"user\", \"\"\"\n",
    "        {company} 주식에 투자해도 될까요?\n",
    "        아래의 기본정보, 재무제표를 참고해 마크다운 형식의 투자보고서를 한글로 작성해 주세여.\n",
    "     \n",
    "        기본정보:\n",
    "        {basic_info}\n",
    "     \n",
    "        재무제표:\n",
    "        {financial_statement}\n",
    "\n",
    "     \"\"\")\n",
    "])"
   ]
  },
  {
   "cell_type": "code",
   "execution_count": 8,
   "id": "6c134798",
   "metadata": {},
   "outputs": [
    {
     "name": "stdout",
     "output_type": "stream",
     "text": [
      "# NVIDIA Corporation 투자 보고서\n",
      "\n",
      "## 기본 정보\n",
      "| 항목                | 값                  |\n",
      "|:------------------|:-------------------|\n",
      "| 회사명            | NVIDIA Corporation  |\n",
      "| 산업              | 반도체             |\n",
      "| 섹터              | 기술               |\n",
      "| 시가총액          | 3,201,847,787,520  |\n",
      "| 발행 주식 수      | 24,387,600,384     |\n",
      "\n",
      "## 재무제표\n",
      "\n",
      "### 분기별 손익계산서\n",
      "| 항목              | 2025-01-31 | 2024-10-31 | 2024-07-31 | 2024-04-30 | 2024-01-31 | 2023-10-31 |\n",
      "|:-----------------|------------|------------|------------|------------|------------|------------|\n",
      "| 총 수익          | 39,331,000,000 | 35,082,000,000 | 30,040,000,000 | 26,044,000,000 | 22,103,000,000 | -          |\n",
      "| 총 이익          | 28,723,000,000 | 26,156,000,000 | 22,574,000,000 | 20,406,000,000 | 16,791,000,000 | -          |\n",
      "| 운영 이익        | 24,034,000,000 | 21,869,000,000 | 18,642,000,000 | 16,909,000,000 | 13,614,000,000 | -          |\n",
      "| 순이익           | 22,091,000,000 | 19,309,000,000 | 16,599,000,000 | 14,881,000,000 | 12,285,000,000 | -          |\n",
      "\n",
      "### 분기별 대차대조표\n",
      "| 항목                                   | 2025-01-31 | 2024-10-31 | 2024-07-31 | 2024-04-30 | 2024-01-31 | 2023-10-31 |\n",
      "|:--------------------------------------|------------|------------|------------|------------|------------|------------|\n",
      "| 총 자산                               | 111,601,000,000 | 96,013,000,000 | 85,227,000,000 | 77,072,000,000 | 65,728,000,000 | -          |\n",
      "| 총 부채 (소수 지분 제외)             | 32,274,000,000  | 30,114,000,000 | 27,070,000,000 | 27,930,000,000 | 22,750,000,000 | -          |\n",
      "| 주주 자본                             | 79,327,000,000  | 65,899,000,000 | 58,157,000,000 | 49,142,000,000 | 42,978,000,000 | -          |\n",
      "\n",
      "### 분기별 현금 흐름표\n",
      "| 항목                     | 2025-01-31 | 2024-10-31 | 2024-07-31 | 2024-04-30 | 2024-01-31 | 2023-10-31 |\n",
      "|:------------------------|------------|------------|------------|------------|------------|------------|\n",
      "| 운영 현금 흐름         | 16,629,000,000 | 17,627,000,000 | 14,488,000,000 | 15,345,000,000 | 11,499,000,000 | -          |\n",
      "| 투자 현금 흐름         | -7,198,000,000  | -4,346,000,000  | -3,184,000,000  | -5,693,000,000  | -6,109,000,000  | -          |\n",
      "| 재무 현금 흐름         | -9,949,000,000  | -12,745,000,000 | -10,320,000,000 | -9,345,000,000  | -3,629,000,000  | -          |\n",
      "\n",
      "## 투자 분석\n",
      "\n",
      "NVIDIA Corporation은 반도체 산업에서 중요한 위치를 차지하고 있으며, 최근 몇 년간 지속적인 성장을 보여주고 있습니다. 2025년 1분기 기준으로 총 수익은 약 39,331억 달러로, 이전 분기 대비 증가하였으며, 이는 회사의 강력한 시장 수요를 반영합니다. \n",
      "\n",
      "### 재무 건전성\n",
      "- **총 자산**은 111,601억 달러로 증가하였으며, 이는 회사의 자산 기반이 강화되고 있음을 나타냅니다.\n",
      "- **주주 자본** 또한 79,327억 달러로 증가하여, 회사의 재무 건전성이 개선되고 있습니다.\n",
      "- **순이익**은 22,091억 달러로, 이전 분기 대비 증가하여 회사의 수익성이 높아지고 있음을 보여줍니다.\n",
      "\n",
      "### 현금 흐름\n",
      "운영 현금 흐름이 긍정적인 추세를 보이고 있으며, 이는 회사가 안정적인 현금 흐름을 유지하고 있다는 것을 의미합니다. 그러나 투자 및 재무 현금 흐름은 부정적인 수치를 보이고 있어, 향후 투자 전략에 대한 신중한 접근이 필요합니다.\n",
      "\n",
      "## 결론\n",
      "NVIDIA는 강력한 재무 성과와 안정적인 성장세를 보이고 있으며, 반도체 산업의 수요 증가에 힘입어 긍정적인 전망을 가지고 있습니다. 따라서, 장기적인 투자 관점에서 NVIDIA 주식에 대한 투자는 긍정적으로 평가될 수 있습니다. 그러나, 시장의 변동성과 외부 경제 요인에 대한 주의가 필요합니다.\n"
     ]
    }
   ],
   "source": [
    "from langchain_core.output_parsers import StrOutputParser\n",
    "\n",
    "output_parser = StrOutputParser()\n",
    "chain = prompt | llm | output_parser\n",
    "\n",
    "company = \"Nvidia\"\n",
    "symbol = \"NVDA\"\n",
    "stock = Stock(symbol)\n",
    "\n",
    "result = chain.invoke({\n",
    "    \"company\": company,\n",
    "    \"basic_info\": stock.get_basic_info(),\n",
    "    \"financial_statement\": stock.get_financial_statement()\n",
    "})\n",
    "print(result)"
   ]
  },
  {
   "cell_type": "code",
   "execution_count": null,
   "id": "a74fe026",
   "metadata": {},
   "outputs": [],
   "source": []
  }
 ],
 "metadata": {
  "kernelspec": {
   "display_name": "langchain_part_1",
   "language": "python",
   "name": "python3"
  },
  "language_info": {
   "codemirror_mode": {
    "name": "ipython",
    "version": 3
   },
   "file_extension": ".py",
   "mimetype": "text/x-python",
   "name": "python",
   "nbconvert_exporter": "python",
   "pygments_lexer": "ipython3",
   "version": "3.12.10"
  }
 },
 "nbformat": 4,
 "nbformat_minor": 5
}
