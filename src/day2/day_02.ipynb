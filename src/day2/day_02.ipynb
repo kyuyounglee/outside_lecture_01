{
 "cells": [
  {
   "cell_type": "code",
   "execution_count": 1,
   "id": "6340d56f",
   "metadata": {},
   "outputs": [
    {
     "name": "stdout",
     "output_type": "stream",
     "text": [
      "sk-proj-****\n"
     ]
    }
   ],
   "source": [
    "# .env 파일에 OPENAI_API_KEY=<YOUR_KEY> 형식으로 API 키를 넣어 두었다고 가정합니다.\n",
    "from dotenv import load_dotenv\n",
    "load_dotenv()  # .env 파일의 환경변수를 로드합니다.\n",
    "\n",
    "import os\n",
    "openai_api_key = os.getenv('OPENAI_API_KEY') \n",
    "# OpenAI API 키가 정상적으로 불러와졌는지 확인 (키 문자열 일부 출력)\n",
    "print(openai_api_key[:8] + \"****\") if openai_api_key else print(\"API Key not found!\")"
   ]
  },
  {
   "cell_type": "code",
   "execution_count": 2,
   "id": "4d282a54",
   "metadata": {},
   "outputs": [],
   "source": [
    "from langchain_openai import ChatOpenAI\n",
    "# OpenAI GPT-4 모델 초기화 (temperature 등의 파라미터 조정 가능)\n",
    "llm = ChatOpenAI(model=\"gpt-4\", temperature=0.7)"
   ]
  },
  {
   "cell_type": "code",
   "execution_count": 3,
   "id": "aa97dc7b",
   "metadata": {},
   "outputs": [
    {
     "name": "stdout",
     "output_type": "stream",
     "text": [
      "이 무선 블루투스 이어폰은 깨끗한 사운드 품질과 함께 완전한 자유로움을 선사합니다. 끊김 없는 연결성과 오래 지속되는 배터리 수명으로 하루 종일 음악을 즐길 수 있습니다. 또한, 가벼운 무게와 부드러운 착용감으로 편안함을 제공하며, 스마트폰, 태블릿, 노트북 등 다양한 기기와 쉽게 페어링 할 수 있습니다. 이제 무선 블루투스 이어폰과 함께 어디서든 음악을 자유롭게 즐기세요.\n"
     ]
    }
   ],
   "source": [
    "from langchain.prompts import PromptTemplate\n",
    "from langchain_core.output_parsers import StrOutputParser\n",
    "\n",
    "# 1. 프롬프트 템플릿 정의 (한국어 프롬프트)\n",
    "product_prompt = PromptTemplate.from_template(\n",
    "    \"제품 이름: {product}\\n\" + \n",
    "    \"이 제품의 특징과 장점을 매력적인 한 단락으로 설명해주세요.\"\n",
    ")\n",
    "\n",
    "# 2. 출력 파서 정의 (문자열 출력 파서)\n",
    "output_parser = StrOutputParser()\n",
    "\n",
    "# 3. LCEL 체인 구성: 프롬프트 → LLM → 출력파서\n",
    "product_chain = product_prompt | llm | output_parser\n",
    "\n",
    "# 4. 체인 실행 (.invoke) - 예시 입력으로 실행\n",
    "example_input = {\"product\": \"무선 블루투스 이어폰\"}  # 예시로 \"무선 블루투스 이어폰\" 설명 생성\n",
    "result = product_chain.invoke(example_input)\n",
    "\n",
    "print(result)"
   ]
  },
  {
   "cell_type": "code",
   "execution_count": 5,
   "id": "49c3e0ce",
   "metadata": {},
   "outputs": [
    {
     "name": "stdout",
     "output_type": "stream",
     "text": [
      "안녕하세요, 팀 여러분,\n",
      "\n",
      "다가오는 프로젝트에 대한 중요한 논의가 필요하여 이메일을 보내게 되었습니다. 우리 팀이 현재 진행 중인 프로젝트에 대한 상세한 논의를 위해 다음주에 회의를 개최하고자 합니다.\n",
      "\n",
      "이번 회의에서는 각자의 작업 진행 상황을 공유하고, 향후 단계에 대한 계획을 세우는 시간을 가질 예정입니다. 이를 통해 우리 팀의 일정을 더욱 효과적으로 관리하고, 팀원 간의 협력을 강화하려고 합니다.\n",
      "\n",
      "그리고, 이번 회의에는 모든 팀원의 참석이 필요하므로 본인의 일정을 확인하신 후 가능한 시간을 알려주시면 감사하겠습니다. 만약 참석이 어려운 경우, 미리 알려주시면 다른 시간으로 조정할 수 있도록 하겠습니다.\n",
      "\n",
      "팀의 성공을 위해 각자의 노력이 필요함을 잊지 말아주시기 바랍니다. 여러분의 의견과 제안을 기다리고 있겠습니다.\n",
      "\n",
      "감사합니다.\n",
      "\n",
      "[본인의 이름]\n"
     ]
    }
   ],
   "source": [
    "from langchain_core.runnables import RunnablePassthrough\n",
    "\n",
    "# 1. 이메일 제목 생성용 프롬프트 정의\n",
    "subject_prompt = PromptTemplate.from_template(\n",
    "    \"다음 요청 내용을 바탕으로 이메일 제목을 지어주세요:\\n{content}\"\n",
    ")\n",
    "\n",
    "# 2. 이메일 본문 생성용 프롬프트 정의\n",
    "body_prompt = PromptTemplate.from_template(\n",
    "    \"위에서 생성된 제목을 활용하여, 팀에게 보내는 정중한 이메일 본문을 작성해주세요.\\n\" + \n",
    "    \"제목: {subject}\\n본문:\"\n",
    ")\n",
    "\n",
    "# 3. 두 프롬프트를 LLM과 결합한 체인 구성\n",
    "email_chain = (\n",
    "    subject_prompt          # 1단계: 제목 프롬프트 \n",
    "    | llm                   # LLM 호출 -> 제목 생성\n",
    "    | {\"subject\": RunnablePassthrough()}   # 출력된 제목을 subject 키로 매핑\n",
    "    | body_prompt           # 2단계: 본문 프롬프트 (subject를 입력으로 받음)\n",
    "    | llm                   # LLM 호출 -> 본문 생성\n",
    "    | output_parser         # 최종 출력 파서 (본문 문자열로 변환)\n",
    ")\n",
    "\n",
    "# 4. 체인 실행 예시\n",
    "email_request = {\n",
    "    \"content\": \"다음주에 프로젝트 진행 상황을 논의하기 위해 팀 회의를 요청드리는 이메일\"\n",
    "}\n",
    "final_email = email_chain.invoke(email_request)\n",
    "print(final_email)"
   ]
  },
  {
   "cell_type": "code",
   "execution_count": null,
   "id": "e00183b7",
   "metadata": {},
   "outputs": [
    {
     "name": "stdout",
     "output_type": "stream",
     "text": [
      "[요약 요청 결과]\n",
      " content='어제의 회의에서는 프로젝트 일정의 변경과 예산 조정에 대해 논의하였습니다.' additional_kwargs={'refusal': None} response_metadata={'token_usage': {'completion_tokens': 33, 'prompt_tokens': 64, 'total_tokens': 97, 'completion_tokens_details': {'accepted_prediction_tokens': 0, 'audio_tokens': 0, 'reasoning_tokens': 0, 'rejected_prediction_tokens': 0}, 'prompt_tokens_details': {'audio_tokens': 0, 'cached_tokens': 0}}, 'model_name': 'gpt-4-0613', 'system_fingerprint': None, 'id': 'chatcmpl-BatU4txz533gv9qucnmM3NJUZ5PcD', 'service_tier': 'default', 'finish_reason': 'stop', 'logprobs': None} id='run--9bcea263-389a-4380-ba48-d6ddaf9bc329-0' usage_metadata={'input_tokens': 64, 'output_tokens': 33, 'total_tokens': 97, 'input_token_details': {'audio': 0, 'cache_read': 0}, 'output_token_details': {'audio': 0, 'reasoning': 0}} \n",
      "\n",
      "[이메일 작성 요청 결과]\n",
      " 안녕하세요 팀원 여러분,\n",
      "\n",
      "우선, 현재까지 프로젝트에 투입해주신 노력에 감사드립니다.\n",
      "\n",
      "다음 주 월요일인 10월 11일 오전 10시에 프로젝트 회의를 진행할 예정입니다. 이번 회의에서는 우리 팀이 지금까지 추진해온 프로젝트의 진행 상황을 점검하고, 앞으로의 방향성을 함께 논의할 계획입니다.\n",
      "\n",
      "회의에서는 각자 맡은 파트의 진행 상황과 앞으로의 계획을 간략하게 발표해주시기 바랍니다. 발표 자료는 회의 전날까지 제출해주시면 감사하겠습니다.\n",
      "\n",
      "비대면으로 진행될 이번 회의에는 모두 참석해주시길 부탁드립니다. 만약 회의 시간에 참석이 어려운 경우 사전에 알려주시면 조정 가능합니다.\n",
      "\n",
      "프로젝트의 성공적인 완수를 위해 여러분의 적극적인 참여와 의견 제시를 부탁드립니다. \n",
      "\n",
      "감사합니다.\n",
      "\n",
      "최고의 하루 보내시길 바랍니다.\n",
      "[귀하의 이름]\n"
     ]
    }
   ],
   "source": [
    "from langchain_core.runnables import RunnableBranch, RunnableLambda\n",
    "\n",
    "# 1. 요약 체인 정의 (프롬프트 → LLM)\n",
    "summary_prompt = PromptTemplate.from_template(\"다음 글을 한 문단으로 요약해주세요:\\n{text}\")\n",
    "summary_chain = summary_prompt | llm  # (StrOutputParser를 쓰지 않아도 기본 문자열 출력)\n",
    "\n",
    "# 2. 이메일 체인은 이전 실습의 email_chain 활용 (이미 정의되었다고 가정; 없다면 위에서 정의한 코드 재사용)\n",
    "\n",
    "# 3. 분기 조건 함수 정의 및 Runnable로 래핑\n",
    "def is_summary_request(user_input: str) -> bool:\n",
    "    return user_input.strip().startswith(\"요약:\")  # 입력이 \"요약:\"으로 시작하면 True\n",
    "\n",
    "condition = RunnableLambda(is_summary_request)\n",
    "\n",
    "# 4. 분기 체인 구성: (조건, 조건=True일 때 체인)와 False일 때 체인 지정\n",
    "branch_chain = RunnableBranch(\n",
    "    (condition, summary_chain),  # 조건이 True이면 summary_chain 실행\n",
    "    # 람다 직접 구현해서 실행 가능\n",
    "    # (lambda x : True if x.strip().startswith(\"요약:\") else False , summary_chain),  # 조건이 True이면 summary_chain 실행\n",
    "    email_chain                 # 조건 False이면 email_chain 실행\n",
    ")\n",
    "\n",
    "# 5. 다양한 입력에 대해 분기 체인 실행\n",
    "input1 = \"요약: 어제 진행된 회의에서는 프로젝트 일정 변경과 예산 조정에 대한 논의가 있었습니다.\"\n",
    "result1 = branch_chain.invoke(input1)\n",
    "print(\"[요약 요청 결과]\\n\", result1, \"\\n\")\n",
    "\n",
    "input2 = \"이메일: 다음 주 월요일 프로젝트 회의 일정을 팀에 공지해줘.\"\n",
    "result2 = branch_chain.invoke(input2)\n",
    "print(\"[이메일 작성 요청 결과]\\n\", result2)"
   ]
  },
  {
   "cell_type": "code",
   "execution_count": 8,
   "id": "23125b4d",
   "metadata": {},
   "outputs": [
    {
     "name": "stdout",
     "output_type": "stream",
     "text": [
      "당신의 이름은 홍길동이라고 말씀하셨어요.\n"
     ]
    }
   ],
   "source": [
    "from langchain.memory import ChatMessageHistory\n",
    "from langchain.schema import HumanMessage, AIMessage, SystemMessage\n",
    "from langchain.prompts import ChatPromptTemplate, MessagesPlaceholder, SystemMessagePromptTemplate, HumanMessagePromptTemplate\n",
    "\n",
    "# 1. 과거 대화 기록 생성\n",
    "history = ChatMessageHistory()\n",
    "history.add_user_message(\"내 이름은 홍길동이야.\")\n",
    "history.add_ai_message(\"홍길동님, 만나서 반가워요.\")  # AI가 사용자 이름을 기억하여 응답\n",
    "\n",
    "# 2. 채팅 프롬프트 템플릿 설정 (시스템 메시지 + 히스토리 + 사용자 메시지)\n",
    "chat_prompt = ChatPromptTemplate.from_messages([\n",
    "    SystemMessagePromptTemplate.from_template(\"너는 친절하고 도움이 되는 어시스턴트야.\"),\n",
    "    MessagesPlaceholder(variable_name=\"history\"),  # 이전 대화 메모리 자리채움\n",
    "    HumanMessagePromptTemplate.from_template(\"{input}\")  # 새로운 사용자 입력\n",
    "])\n",
    "\n",
    "# 3. LCEL 체인 구성: 채팅 프롬프트 → LLM\n",
    "chat_chain = chat_prompt | llm\n",
    "\n",
    "# 4. 새로운 사용자 질문과 함께 체인 실행 (history와 input을 전달)\n",
    "new_question = \"내 이름이 뭐였지?\"  # 사용자: 자기 이름을 물어봄\n",
    "response = chat_chain.invoke({\n",
    "    \"history\": history.messages,  # 이전 메시지 목록 전달\n",
    "    \"input\": new_question\n",
    "})\n",
    "\n",
    "print(response.content)"
   ]
  },
  {
   "cell_type": "code",
   "execution_count": 9,
   "id": "5080c051",
   "metadata": {},
   "outputs": [
    {
     "name": "stdout",
     "output_type": "stream",
     "text": [
      "오늘 날짜는 2025-05-23입니다. 해야 할 일을 알려줘.\n"
     ]
    }
   ],
   "source": [
    "base_prompt = PromptTemplate.from_template(\"오늘 날짜는 {date}입니다. {task}\")\n",
    "partial_prompt = base_prompt.partial(date=\"2025-05-23\")  # date 변수 미리 채움\n",
    "print(partial_prompt.format(task=\"해야 할 일을 알려줘.\"))"
   ]
  },
  {
   "cell_type": "code",
   "execution_count": 10,
   "id": "66559a69",
   "metadata": {},
   "outputs": [
    {
     "name": "stdout",
     "output_type": "stream",
     "text": [
      "OpenAI Key present? True\n",
      "Weather API Key present? True\n"
     ]
    }
   ],
   "source": [
    "# .env 파일 로드\n",
    "from dotenv import load_dotenv\n",
    "import os\n",
    "\n",
    "load_dotenv()  # .env 파일의 환경변수 로드\n",
    "OPENAI_API_KEY = os.getenv(\"OPENAI_API_KEY\")\n",
    "OWM_API_KEY = os.getenv(\"OPENWEATHERMAP_API_KEY\")\n",
    "# NEWS_API_KEY = os.getenv(\"NEWSAPI_API_KEY\")\n",
    "\n",
    "# 키 값 확인 (None이 아니라면 성공적으로 불러온 것입니다)\n",
    "print(\"OpenAI Key present?\", OPENAI_API_KEY is not None)\n",
    "print(\"Weather API Key present?\", OWM_API_KEY is not None)\n",
    "# print(\"News API Key present?\", NEWS_API_KEY is not None)"
   ]
  },
  {
   "cell_type": "code",
   "execution_count": 51,
   "id": "33be54f0",
   "metadata": {},
   "outputs": [
    {
     "name": "stdout",
     "output_type": "stream",
     "text": [
      "Seoul의 현재 기온은 19.76℃, 날씨는 맑음입니다.\n"
     ]
    }
   ],
   "source": [
    "import requests\n",
    "from pydantic import BaseModel, Field\n",
    "\n",
    "# 입력 스키마 정의\n",
    "class WeatherInput(BaseModel):\n",
    "    city: str = Field(description=\"날씨를 조회할 도시 이름 (영문)\")\n",
    "\n",
    "def get_weather(city: str) -> str:\n",
    "    \"\"\"주어진 도시의 현재 날씨를 반환합니다.\"\"\"\n",
    "    api_key = os.getenv(\"OPENWEATHERMAP_API_KEY\")\n",
    "    url = \"http://api.openweathermap.org/data/2.5/weather\"\n",
    "    params = {\n",
    "        \"q\": city,\n",
    "        \"appid\": api_key,\n",
    "        \"units\": \"metric\",      # 섭씨 온도\n",
    "        \"lang\": \"kr\"            # 한국어 응답 (설명이 한국어로 오도록)\n",
    "    }\n",
    "    response = requests.get(url, params=params)\n",
    "    data = response.json()\n",
    "    # API 응답에 따른 처리\n",
    "    if data.get(\"cod\") != 200:\n",
    "        # 도시 정보를 찾지 못한 경우\n",
    "        return f\"'{city}'의 날씨 정보를 찾을 수 없습니다.\"\n",
    "    # 필요한 정보 파싱\n",
    "    temp = data[\"main\"][\"temp\"]\n",
    "    desc = data[\"weather\"][0][\"description\"]\n",
    "    city_name = data[\"name\"]  # 응답에 있는 도시 이름 (영문일 수 있음)\n",
    "    return f\"{city_name}의 현재 기온은 {temp}℃, 날씨는 {desc}입니다.\"\n",
    "\n",
    "# get_weather_chain = RunnableLambda(lambda x: get_weather(x[\"city\"]))\n",
    "get_weather_chain = RunnableLambda(lambda x: get_weather(x.city))\n",
    "# 체인 실행 예시\n",
    "# weather_input = {\"city\": \"Seoul\"}  # 서울 날씨 조회 \n",
    "weather_input = WeatherInput(city=\"Seoul\") # 서울 날씨 조회 \n",
    "weather_result = get_weather_chain.invoke(weather_input)\n",
    "print(weather_result)  # 서울의 현재 날씨 출력\n"
   ]
  },
  {
   "cell_type": "code",
   "execution_count": null,
   "id": "2fa71517",
   "metadata": {},
   "outputs": [],
   "source": [
    "# 입력 스키마 정의\n",
    "class NewsInput(BaseModel):\n",
    "    keyword: str = Field(description=\"최신 뉴스를 검색할 키워드 (한글 또는 영문)\")\n",
    "\n",
    "def get_news(keyword: str) -> str:\n",
    "    \"\"\"주어진 키워드에 대한 최신 뉴스 제목을 반환합니다.\"\"\"\n",
    "    api_key = os.getenv(\"NEWSAPI_API_KEY\")\n",
    "    url = \"https://newsapi.org/v2/everything\"\n",
    "    params = {\n",
    "        \"q\": keyword,\n",
    "        \"language\": \"ko\",         # 한국어 뉴스 기사 검색\n",
    "        \"sortBy\": \"publishedAt\",  # 최신 뉴스 우선 정렬\n",
    "        \"pageSize\": 1,            # 가장 최근 기사 1건만 가져오기\n",
    "        \"apiKey\": api_key\n",
    "    }\n",
    "    res = requests.get(url, params=params)\n",
    "    data = res.json()\n",
    "    articles = data.get(\"articles\")\n",
    "    if not articles:\n",
    "        return f\"'{keyword}'에 대한 최신 뉴스가 없습니다.\"\n",
    "    # 가장 첫 번째 뉴스를 선택\n",
    "    top_article = articles[0]\n",
    "    title = top_article.get(\"title\", \"(제목 없음)\")\n",
    "    source = top_article.get(\"source\", {}).get(\"name\", \"\")\n",
    "    return f\"'{keyword}' 관련 뉴스: {title} - {source}\""
   ]
  },
  {
   "cell_type": "code",
   "execution_count": null,
   "id": "dde166a7",
   "metadata": {},
   "outputs": [
    {
     "data": {
      "text/plain": [
       "('18.7', '맑음')"
      ]
     },
     "execution_count": 38,
     "metadata": {},
     "output_type": "execute_result"
    }
   ],
   "source": [
    "#  공공기관 api\n",
    "import requests\n",
    "from datetime import datetime\n",
    "import xmltodict\n",
    "# .env 파일 로드\n",
    "from dotenv import load_dotenv\n",
    "import os\n",
    "\n",
    "load_dotenv()  # .env 파일의 환경변수 로드\n",
    "WEATHER_API_KEY = os.getenv(\"WEATHER_API_KEY\")\n",
    "\n",
    "\n",
    "def get_current_date():\n",
    "    current_date = datetime.now().date()\n",
    "    return current_date.strftime(\"%Y%m%d\")\n",
    "\n",
    "def get_current_hour():\n",
    "    now = datetime.now()\n",
    "    return datetime.now().strftime(\"%H%M\")\n",
    "\n",
    "int_to_weather = {\n",
    "    \"0\": \"맑음\",\n",
    "    \"1\": \"비\",\n",
    "    \"2\": \"비/눈\",\n",
    "    \"3\": \"눈\",\n",
    "    \"5\": \"빗방울\",\n",
    "    \"6\": \"빗방울눈날림\",\n",
    "    \"7\": \"눈날림\"\n",
    "}\n",
    "\n",
    "def forecast(params):\n",
    "    url = 'http://apis.data.go.kr/1360000/VilageFcstInfoService_2.0/getUltraSrtNcst'  # 초단기실황\n",
    "    res = requests.get(url, params)\n",
    "\n",
    "    # XML -> 딕셔너리\n",
    "    xml_data = res.text\n",
    "    dict_data = xmltodict.parse(xml_data)\n",
    "\n",
    "    # 예외 처리: 데이터 없음\n",
    "    response = dict_data.get(\"response\", {})\n",
    "    header = response.get(\"header\", {})\n",
    "    result_code = header.get(\"resultCode\")\n",
    "\n",
    "    if result_code != \"00\":\n",
    "        # \"00\"이 아니면 오류 발생 (예: NO_DATA: 03)\n",
    "        msg = header.get(\"resultMsg\", \"Unknown error\")\n",
    "        return f\"[ERROR] 기상청 API 응답 오류: {msg}\"\n",
    "\n",
    "    body = response.get(\"body\", {})\n",
    "    items = body.get(\"items\", {})\n",
    "    item_list = items.get(\"item\")\n",
    "\n",
    "    # 예외 처리: item_list가 비어있거나 None인 경우\n",
    "    if not item_list:\n",
    "        return \"[INFO] 기상청 API에 데이터가 없습니다.\"\n",
    "\n",
    "    temp, sky = None, None\n",
    "    for item in item_list:\n",
    "        if item[\"category\"] == \"T1H\":\n",
    "            temp = item[\"obsrValue\"]\n",
    "        if item[\"category\"] == \"PTY\":\n",
    "            sky_code = item[\"obsrValue\"]\n",
    "            sky = int_to_weather.get(sky_code, \"알 수 없음\")\n",
    "\n",
    "    if temp is None or sky is None:\n",
    "        return \"[INFO] 온도 또는 날씨 정보를 찾을 수 없습니다.\"\n",
    "\n",
    "    return temp, sky\n",
    "\n",
    "keys = WEATHER_API_KEY\n",
    "\n",
    "params ={'serviceKey' : keys, \n",
    "         'pageNo' : '1', \n",
    "         'numOfRows' : '10', \n",
    "         'dataType' : 'XML', \n",
    "         'base_date' : get_current_date(), \n",
    "         'base_time' : get_current_hour(), \n",
    "         'nx' : '55', \n",
    "         'ny' : '127' }\n",
    "\n",
    "forecast(params)\n"
   ]
  },
  {
   "cell_type": "code",
   "execution_count": 57,
   "id": "e7f7202a",
   "metadata": {},
   "outputs": [
    {
     "name": "stdout",
     "output_type": "stream",
     "text": [
      "Tool 이름: get_weather, 설명: 도시 이름(영문)을 입력하면 현재 날씨를 알려주는 도구\n",
      "Tool 이름: get_news, 설명: 키워드를 입력하면 관련된 최신 뉴스 제목을 알려주는 도구\n"
     ]
    }
   ],
   "source": [
    "from langchain_core.runnables import RunnableLambda\n",
    "\n",
    "# 날씨 함수 runnable -> tool 변환\n",
    "weather_runnable = RunnableLambda(lambda input: get_weather(input[\"city\"]))\n",
    "weather_tool = weather_runnable.as_tool(\n",
    "    name=\"get_weather\",\n",
    "    description=\"도시 이름(영문)을 입력하면 현재 날씨를 알려주는 도구\",\n",
    "    args_schema=WeatherInput\n",
    ")\n",
    "\n",
    "# 뉴스 함수 runnable -> tool 변환\n",
    "news_runnable = RunnableLambda(lambda input: get_news(input[\"keyword\"]))\n",
    "news_tool = news_runnable.as_tool(\n",
    "    name=\"get_news\",\n",
    "    description=\"키워드를 입력하면 관련된 최신 뉴스 제목을 알려주는 도구\",\n",
    "    args_schema=NewsInput\n",
    ")\n",
    "\n",
    "print(f\"Tool 이름: {weather_tool.name}, 설명: {weather_tool.description}\")\n",
    "print(f\"Tool 이름: {news_tool.name}, 설명: {news_tool.description}\")"
   ]
  },
  {
   "cell_type": "code",
   "execution_count": 58,
   "id": "5d92ae9c",
   "metadata": {},
   "outputs": [],
   "source": [
    "from langchain.agents import initialize_agent, AgentType\n",
    "\n",
    "# 앞서 만든 Tool 객체 리스트 준비\n",
    "tools = [weather_tool, news_tool]\n",
    "\n",
    "# OpenAI 함수 기반 에이전트 생성\n",
    "agent = initialize_agent(\n",
    "    tools=tools,\n",
    "    llm=llm,\n",
    "    agent=AgentType.OPENAI_FUNCTIONS,\n",
    "    verbose=True  # intermediate 단계 로그를 출력하여 확인\n",
    ")"
   ]
  },
  {
   "cell_type": "code",
   "execution_count": 60,
   "id": "dc000e53",
   "metadata": {},
   "outputs": [
    {
     "name": "stdout",
     "output_type": "stream",
     "text": [
      "\n",
      "\n",
      "\u001b[1m> Entering new AgentExecutor chain...\u001b[0m\n",
      "\u001b[32;1m\u001b[1;3m\n",
      "Invoking: `get_weather` with `{'city': 'Seoul'}`\n",
      "\n",
      "\n",
      "\u001b[0m\u001b[36;1m\u001b[1;3mSeoul의 현재 기온은 19.76℃, 날씨는 맑음입니다.\u001b[0m\u001b[32;1m\u001b[1;3m\n",
      "Invoking: `get_news` with `{'keyword': 'OpenAI'}`\n",
      "\n",
      "\n",
      "\u001b[0m\u001b[33;1m\u001b[1;3m'OpenAI'에 대한 최신 뉴스가 없습니다.\u001b[0m\u001b[32;1m\u001b[1;3m서울의 현재 기온은 19.76℃로, 날씨는 맑습니다. 그리고 'OpenAI'에 대한 최신 뉴스는 현재 없습니다. 다른 정보가 필요하시면 알려주세요.\u001b[0m\n",
      "\n",
      "\u001b[1m> Finished chain.\u001b[0m\n",
      "Agent Result 2: 서울의 현재 기온은 19.76℃로, 날씨는 맑습니다. 그리고 'OpenAI'에 대한 최신 뉴스는 현재 없습니다. 다른 정보가 필요하시면 알려주세요.\n"
     ]
    }
   ],
   "source": [
    "query2 = \"서울의 날씨와 OpenAI에 대한 최신 뉴스 알려줘.\"\n",
    "result2 = agent.run(query2)\n",
    "print(\"Agent Result 2:\", result2)"
   ]
  },
  {
   "cell_type": "code",
   "execution_count": 54,
   "id": "a1655879",
   "metadata": {},
   "outputs": [
    {
     "name": "stdout",
     "output_type": "stream",
     "text": [
      "'OpenAI'에 대한 최신 뉴스가 없습니다.\n"
     ]
    }
   ],
   "source": [
    "print(get_news(\"OpenAI\"))"
   ]
  },
  {
   "cell_type": "code",
   "execution_count": 55,
   "id": "b91336ce",
   "metadata": {},
   "outputs": [
    {
     "name": "stdout",
     "output_type": "stream",
     "text": [
      "Tool 이름: get_weather, 설명: 도시 이름(영문)을 입력하면 현재 날씨를 알려주는 도구\n",
      "Tool 이름: get_news, 설명: 키워드를 입력하면 관련된 최신 뉴스 제목을 알려주는 도구\n"
     ]
    }
   ],
   "source": [
    "from langchain_core.runnables import RunnableLambda\n",
    "\n",
    "# 날씨 함수 runnable -> tool 변환\n",
    "weather_runnable = RunnableLambda(lambda input: get_weather(input[\"city\"]))\n",
    "weather_tool = weather_runnable.as_tool(\n",
    "    name=\"get_weather\",\n",
    "    description=\"도시 이름(영문)을 입력하면 현재 날씨를 알려주는 도구\",\n",
    "    args_schema=WeatherInput\n",
    ")\n",
    "\n",
    "# 뉴스 함수 runnable -> tool 변환\n",
    "news_runnable = RunnableLambda(lambda input: get_news(input[\"keyword\"]))\n",
    "news_tool = news_runnable.as_tool(\n",
    "    name=\"get_news\",\n",
    "    description=\"키워드를 입력하면 관련된 최신 뉴스 제목을 알려주는 도구\",\n",
    "    args_schema=NewsInput\n",
    ")\n",
    "\n",
    "print(f\"Tool 이름: {weather_tool.name}, 설명: {weather_tool.description}\")\n",
    "print(f\"Tool 이름: {news_tool.name}, 설명: {news_tool.description}\")"
   ]
  },
  {
   "cell_type": "code",
   "execution_count": 56,
   "id": "747813da",
   "metadata": {},
   "outputs": [
    {
     "name": "stdout",
     "output_type": "stream",
     "text": [
      "[툴 출력] Seoul의 현재 기온은 19.76℃, 날씨는 맑음입니다.\n"
     ]
    }
   ],
   "source": [
    "user_question = \"서울 날씨 알려줘.\"\n",
    "# 1단계: Tool 함수 직접 호출\n",
    "city_query = \"Seoul\"  # \"서울\"을 API에 맞게 영문 변환\n",
    "weather_info = get_weather(city_query)\n",
    "print(\"[툴 출력]\", weather_info)"
   ]
  },
  {
   "cell_type": "code",
   "execution_count": null,
   "id": "a500d138",
   "metadata": {},
   "outputs": [],
   "source": [
    "query2 = \"서울의 날씨와 OpenAI에 대한 최신 뉴스 알려줘.\"\n",
    "result2 = agent.run(query2)\n",
    "print(\"Agent Result 2:\", result2)"
   ]
  }
 ],
 "metadata": {
  "kernelspec": {
   "display_name": "langchain_part_1",
   "language": "python",
   "name": "python3"
  },
  "language_info": {
   "codemirror_mode": {
    "name": "ipython",
    "version": 3
   },
   "file_extension": ".py",
   "mimetype": "text/x-python",
   "name": "python",
   "nbconvert_exporter": "python",
   "pygments_lexer": "ipython3",
   "version": "3.12.10"
  }
 },
 "nbformat": 4,
 "nbformat_minor": 5
}
