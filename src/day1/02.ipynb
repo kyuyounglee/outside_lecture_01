{
 "cells": [
  {
   "cell_type": "code",
   "execution_count": 2,
   "id": "d06c57d0",
   "metadata": {},
   "outputs": [
    {
     "name": "stdout",
     "output_type": "stream",
     "text": [
      "당신은 최고 수준의 마케팅 카피라이터입니다.\n",
      "아래 제품의 매력적인 홍보 문구를 100자 내외로 작성해주세요.\n",
      "\n",
      "제품명: 슈퍼카메라 X100\n"
     ]
    }
   ],
   "source": [
    "from langchain.prompts import PromptTemplate\n",
    "\n",
    "# 1. 템플릿 문자열 정의 (한국어로 작성)\n",
    "template_str = (\n",
    "    \"당신은 최고 수준의 마케팅 카피라이터입니다.\\n\"\n",
    "    \"아래 제품의 매력적인 홍보 문구를 100자 내외로 작성해주세요.\\n\\n\"\n",
    "    \"제품명: {product_name}\"\n",
    ")\n",
    "\n",
    "# 2. PromptTemplate 객체 생성\n",
    "product_prompt = PromptTemplate.from_template(template_str)\n",
    "\n",
    "# 3. 템플릿에 값 채워보기 (format)\n",
    "formatted_prompt = product_prompt.format(product_name=\"슈퍼카메라 X100\")\n",
    "print(formatted_prompt)"
   ]
  },
  {
   "cell_type": "code",
   "execution_count": 3,
   "id": "303242b4",
   "metadata": {},
   "outputs": [
    {
     "name": "stdout",
     "output_type": "stream",
     "text": [
      "content='\"슈퍼카메라 X100, 당신의 순간을 예술로! 선명한 화질과 혁신적인 기능으로 특별한 기억을 담아보세요. 지금, 새로운 시선을 경험하세요!\"' additional_kwargs={'refusal': None} response_metadata={'token_usage': {'completion_tokens': 45, 'prompt_tokens': 53, 'total_tokens': 98, 'completion_tokens_details': {'accepted_prediction_tokens': 0, 'audio_tokens': 0, 'reasoning_tokens': 0, 'rejected_prediction_tokens': 0}, 'prompt_tokens_details': {'audio_tokens': 0, 'cached_tokens': 0}}, 'model_name': 'gpt-4o-mini-2024-07-18', 'system_fingerprint': 'fp_54eb4bd693', 'id': 'chatcmpl-BabNPBVoRBagtb3KmsEJ3yH8fqwk7', 'service_tier': 'default', 'finish_reason': 'stop', 'logprobs': None} id='run--57f388cd-cf0f-4b99-ab11-19be1d2b209d-0' usage_metadata={'input_tokens': 53, 'output_tokens': 45, 'total_tokens': 98, 'input_token_details': {'audio': 0, 'cache_read': 0}, 'output_token_details': {'audio': 0, 'reasoning': 0}}\n"
     ]
    }
   ],
   "source": [
    "from langchain_openai import ChatOpenAI\n",
    "\n",
    "# OpenAI GPT-4o-mini 모델 초기화 (temperature=0으로 설정하여 출력 안정성 강화)\n",
    "llm = ChatOpenAI(model=\"gpt-4o-mini\", temperature=0)\n",
    "\n",
    "# RunnableSequence 객체 생성 (파이프라인 형태)\n",
    "chain = product_prompt | llm\n",
    "\n",
    "# invoke 메서드를 사용하여 명시적으로 호출\n",
    "result = chain.invoke({\"product_name\": \"슈퍼카메라 X100\"})\n",
    "print(result)"
   ]
  },
  {
   "cell_type": "code",
   "execution_count": 4,
   "id": "e05f8e88",
   "metadata": {},
   "outputs": [
    {
     "name": "stdout",
     "output_type": "stream",
     "text": [
      "\"슈퍼카메라 X100, 당신의 순간을 예술로! 선명한 화질과 혁신적인 기능으로 특별한 기억을 담아보세요. 지금, 새로운 시선을 경험하세요!\"\n"
     ]
    }
   ],
   "source": [
    "from langchain_core.output_parsers import StrOutputParser\n",
    "parser = StrOutputParser()\n",
    "parsed_text = parser.invoke(result)  # ChatOpenAI의 응답 객체를 파싱\n",
    "print(parsed_text)"
   ]
  },
  {
   "cell_type": "code",
   "execution_count": 14,
   "id": "abb49777",
   "metadata": {},
   "outputs": [
    {
     "name": "stdout",
     "output_type": "stream",
     "text": [
      "\"슈퍼카메라 X100, 당신의 순간을 예술로! 선명한 화질과 혁신적인 기능으로 특별한 기억을 담아보세요. 지금, 촬영의 새로운 차원을 경험하세요!\"\n"
     ]
    }
   ],
   "source": [
    "# 전달된 템플릿으로 모델생성후 stroutputparser로 파싱 함수\n",
    "def create_and_parse_prompt(template_str, product_name):\n",
    "    # 1. 템플릿 문자열 정의\n",
    "    product_prompt = PromptTemplate.from_template(template_str)\n",
    "\n",
    "    # 2. OpenAI GPT-4o-mini 모델 초기화\n",
    "    llm = ChatOpenAI(model=\"gpt-4o-mini\", temperature=0)\n",
    "\n",
    "    # 3. RunnableSequence 객체 생성\n",
    "    chain = product_prompt | llm\n",
    "\n",
    "    # 4. invoke 메서드를 사용하여 명시적으로 호출\n",
    "    result = chain.invoke({\"product_name\": product_name})\n",
    "\n",
    "    # 5. StrOutputParser로 파싱\n",
    "    parser = StrOutputParser()\n",
    "    parsed_text = parser.invoke(result)\n",
    "    \n",
    "    return parsed_text\n",
    "# 사용 예시\n",
    "template_str = (\n",
    "    \"당신은 최고 수준의 마케팅 카피라이터입니다.\\n\"\n",
    "    \"아래 제품의 매력적인 홍보 문구를 100자 내외로 작성해주세요.\\n\\n\"\n",
    "    \"제품명: {product_name}\"\n",
    ")\n",
    "product_name = \"슈퍼카메라 X100\"\n",
    "parsed_result = create_and_parse_prompt(template_str, product_name)\n",
    "print(parsed_result)\n",
    "# 6. 결과를 파일에 저장 \n",
    "with open(\"parsed_result.txt\", \"w\", encoding=\"utf-8\") as f:\n",
    "    f.write(parsed_result)    "
   ]
  },
  {
   "cell_type": "code",
   "execution_count": 6,
   "id": "3767a122",
   "metadata": {},
   "outputs": [
    {
     "name": "stdout",
     "output_type": "stream",
     "text": [
      "아래는 뉴스 기사 제목과 키워드입니다.\n",
      "이 정보를 바탕으로 한 문단으로 구성된 간략한 요약문을 작성하세요.\n",
      "\n",
      "제목: 인공지능 기술의 발전과 미래\n",
      "키워드: 머신러닝, 딥러닝, 산업 혁신\n"
     ]
    }
   ],
   "source": [
    "# 1. 다중 입력 템플릿 문자열 정의\n",
    "multi_template_str = (\n",
    "    \"아래는 뉴스 기사 제목과 키워드입니다.\\n\"\n",
    "    \"이 정보를 바탕으로 한 문단으로 구성된 간략한 요약문을 작성하세요.\\n\\n\"\n",
    "    \"제목: {title}\\n\"\n",
    "    \"키워드: {keywords}\"\n",
    ")\n",
    "\n",
    "# 2. PromptTemplate 객체 생성 (두 개의 input_variables 지정)\n",
    "summary_prompt = PromptTemplate(\n",
    "    template=multi_template_str, input_variables=[\"title\", \"keywords\"]\n",
    ")\n",
    "\n",
    "# 3. 예시 값으로 포맷팅하여 프롬프트 확인\n",
    "sample_title = \"인공지능 기술의 발전과 미래\"\n",
    "sample_keywords = \"머신러닝, 딥러닝, 산업 혁신\"\n",
    "formatted_summary_prompt = summary_prompt.format(title=sample_title, keywords=sample_keywords)\n",
    "print(formatted_summary_prompt)"
   ]
  },
  {
   "cell_type": "code",
   "execution_count": 9,
   "id": "5289b640",
   "metadata": {},
   "outputs": [
    {
     "name": "stdout",
     "output_type": "stream",
     "text": [
      "인공지능 기술의 발전은 머신러닝과 딥러닝의 혁신적인 발전을 통해 산업 전반에 걸쳐 큰 변화를 가져오고 있습니다. 이러한 기술들은 데이터 분석과 자동화를 가능하게 하여 기업의 효율성을 높이고 새로운 비즈니스 모델을 창출하는 데 기여하고 있습니다. 앞으로 인공지능은 다양한 산업 분야에서 더욱 중요한 역할을 할 것으로 예상되며, 이는 경제 성장과 사회적 변화에 긍정적인 영향을 미칠 것입니다.\n"
     ]
    }
   ],
   "source": [
    "llm = ChatOpenAI(model=\"gpt-4o-mini\", temperature=0)\n",
    "parser = StrOutputParser()\n",
    "print( parser.invoke(llm.invoke(formatted_summary_prompt)) )  # ChatOpenAI의 응답 객체를 파싱"
   ]
  },
  {
   "cell_type": "code",
   "execution_count": 13,
   "id": "1028afd3",
   "metadata": {},
   "outputs": [
    {
     "name": "stdout",
     "output_type": "stream",
     "text": [
      "[SystemMessage(content='당신은 Python 분야의 뛰어난 전문가이자 조언자입니다. 사용자의 프로그래밍 질문에 대해 친절하고 이해하기 쉽게 답변해주세요.', additional_kwargs={}, response_metadata={}), HumanMessage(content='파이썬의 리스트 컴프리헨션(list comprehension)과 map 함수의 차이가 무엇인가요?', additional_kwargs={}, response_metadata={})]\n",
      "리스트 컴프리헨션(list comprehension)과 `map` 함수는 모두 리스트를 생성하는 데 사용되지만, 그 사용 방식과 문법에서 차이가 있습니다. 아래에서 각각의 특징과 차이점을 설명하겠습니다.\n",
      "\n",
      "### 리스트 컴프리헨션 (List Comprehension)\n",
      "\n",
      "리스트 컴프리헨션은 간결한 문법을 사용하여 리스트를 생성하는 방법입니다. 일반적으로 기존 리스트를 기반으로 새로운 리스트를 만들 때 사용됩니다. 기본 문법은 다음과 같습니다:\n",
      "\n",
      "```python\n",
      "new_list = [expression for item in iterable if condition]\n",
      "```\n",
      "\n",
      "- `expression`: 각 요소에 적용할 표현식\n",
      "- `item`: 반복할 요소\n",
      "- `iterable`: 반복 가능한 객체 (예: 리스트, 튜플 등)\n",
      "- `condition`: (선택적) 필터링 조건\n",
      "\n",
      "**예시:**\n",
      "\n",
      "```python\n",
      "# 1부터 10까지의 제곱을 구하는 리스트 컴프리헨션\n",
      "squares = [x**2 for x in range(1, 11)]\n",
      "print(squares)  # [1, 4, 9, 16, 25, 36, 49, 64, 81, 100]\n",
      "```\n",
      "\n",
      "### map 함수\n",
      "\n",
      "`map` 함수는 주어진 함수를 iterable의 각 요소에 적용하여 새로운 iterable을 생성합니다. 기본 문법은 다음과 같습니다:\n",
      "\n",
      "```python\n",
      "map(function, iterable)\n",
      "```\n",
      "\n",
      "- `function`: 각 요소에 적용할 함수\n",
      "- `iterable`: 반복 가능한 객체\n",
      "\n",
      "`map` 함수는 결과를 `map` 객체로 반환하며, 이를 리스트로 변환하려면 `list()` 함수를 사용해야 합니다.\n",
      "\n",
      "**예시:**\n",
      "\n",
      "```python\n",
      "# 1부터 10까지의 제곱을 구하는 map 함수\n",
      "squares = list(map(lambda x: x**2, range(1, 11)))\n",
      "print(squares)  # [1, 4, 9, 16, 25, 36, 49, 64, 81, 100]\n",
      "```\n",
      "\n",
      "### 차이점 요약\n",
      "\n",
      "1. **문법**:\n",
      "   - 리스트 컴프리헨션은 더 직관적이고 간결한 문법을 제공합니다.\n",
      "   - `map` 함수는 함수와 iterable을 인자로 받습니다.\n",
      "\n",
      "2. **가독성**:\n",
      "   - 리스트 컴프리헨션은 가독성이 좋고, 조건문을 쉽게 추가할 수 있습니다.\n",
      "   - `map` 함수는 함수형 프로그래밍 스타일에 더 가깝지만, 복잡한 로직을 적용할 때는 가독성이 떨어질 수 있습니다.\n",
      "\n",
      "3. **유연성**:\n",
      "   - 리스트 컴프리헨션은 조건문을 쉽게 추가할 수 있어 더 유연합니다.\n",
      "   - `map` 함수는 주로 단순한 변환에 적합합니다.\n",
      "\n",
      "결론적으로, 두 방법 모두 유용하며 상황에 따라 적절한 방법을 선택하면 됩니다. 리스트 컴프리헨션은 가독성이 좋고 유연한 경우에, `map` 함수는 함수형 프로그래밍 스타일을 선호할 때 유용합니다.\n"
     ]
    }
   ],
   "source": [
    "from langchain.prompts import ChatPromptTemplate\n",
    "\n",
    "# 1. 시스템 및 사용자 템플릿 정의\n",
    "system_message = (\"당신은 Python 분야의 뛰어난 전문가이자 조언자입니다. \"\n",
    "                  \"사용자의 프로그래밍 질문에 대해 친절하고 이해하기 쉽게 답변해주세요.\")\n",
    "user_message = \"{question}\"  # 사용자 질문은 실행 시 채워질 변수\n",
    "\n",
    "# 2. ChatPromptTemplate.from_messages를 사용하여 역할별 프롬프트 템플릿 생성\n",
    "chat_prompt = ChatPromptTemplate.from_messages([\n",
    "    (\"system\", system_message),\n",
    "    (\"user\", user_message)\n",
    "])\n",
    "# 3. format_messages로 예시 질문을 채워 메시지 목록 생성\n",
    "sample_question = \"파이썬의 리스트 컴프리헨션(list comprehension)과 map 함수의 차이가 무엇인가요?\"\n",
    "messages = chat_prompt.format_messages(question=sample_question)\n",
    "print(messages)\n",
    "\n",
    "# 4. Chat 모델 실행하여 응답 얻기\n",
    "answer = (chat_prompt | llm).invoke({\"question\": sample_question})\n",
    "print(answer.content)"
   ]
  },
  {
   "cell_type": "markdown",
   "id": "1d751d71",
   "metadata": {},
   "source": [
    "이후 실습은 md 파일의 내용을 실제 수행하면 됨"
   ]
  },
  {
   "cell_type": "code",
   "execution_count": null,
   "id": "a9c6887b",
   "metadata": {},
   "outputs": [],
   "source": []
  }
 ],
 "metadata": {
  "kernelspec": {
   "display_name": "langchain_part_1",
   "language": "python",
   "name": "python3"
  },
  "language_info": {
   "codemirror_mode": {
    "name": "ipython",
    "version": 3
   },
   "file_extension": ".py",
   "mimetype": "text/x-python",
   "name": "python",
   "nbconvert_exporter": "python",
   "pygments_lexer": "ipython3",
   "version": "3.12.10"
  }
 },
 "nbformat": 4,
 "nbformat_minor": 5
}
