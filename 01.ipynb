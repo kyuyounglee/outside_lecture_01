{
 "cells": [
  {
   "cell_type": "code",
   "execution_count": 1,
   "id": "acf45ac5",
   "metadata": {},
   "outputs": [
    {
     "name": "stdout",
     "output_type": "stream",
     "text": [
      "Collecting langchain-core\n",
      "  Downloading langchain_core-0.3.61-py3-none-any.whl.metadata (5.8 kB)\n",
      "Collecting langchain\n",
      "  Downloading langchain-0.3.25-py3-none-any.whl.metadata (7.8 kB)\n",
      "Collecting langchain-openai\n",
      "  Downloading langchain_openai-0.3.18-py3-none-any.whl.metadata (2.3 kB)\n",
      "Collecting python-dotenv\n",
      "  Using cached python_dotenv-1.1.0-py3-none-any.whl.metadata (24 kB)\n",
      "Collecting langsmith<0.4,>=0.1.126 (from langchain-core)\n",
      "  Downloading langsmith-0.3.42-py3-none-any.whl.metadata (15 kB)\n",
      "Collecting tenacity!=8.4.0,<10.0.0,>=8.1.0 (from langchain-core)\n",
      "  Using cached tenacity-9.1.2-py3-none-any.whl.metadata (1.2 kB)\n",
      "Collecting jsonpatch<2.0,>=1.33 (from langchain-core)\n",
      "  Using cached jsonpatch-1.33-py2.py3-none-any.whl.metadata (3.0 kB)\n",
      "Requirement already satisfied: PyYAML>=5.3 in c:\\users\\511-17\\miniconda3\\envs\\langchain_part_1\\lib\\site-packages (from langchain-core) (6.0.2)\n",
      "Collecting packaging<25,>=23.2 (from langchain-core)\n",
      "  Using cached packaging-24.2-py3-none-any.whl.metadata (3.2 kB)\n",
      "Requirement already satisfied: typing-extensions>=4.7 in c:\\users\\511-17\\miniconda3\\envs\\langchain_part_1\\lib\\site-packages (from langchain-core) (4.13.2)\n",
      "Collecting pydantic>=2.7.4 (from langchain-core)\n",
      "  Downloading pydantic-2.11.5-py3-none-any.whl.metadata (67 kB)\n",
      "Requirement already satisfied: jsonpointer>=1.9 in c:\\users\\511-17\\miniconda3\\envs\\langchain_part_1\\lib\\site-packages (from jsonpatch<2.0,>=1.33->langchain-core) (3.0.0)\n",
      "Requirement already satisfied: httpx<1,>=0.23.0 in c:\\users\\511-17\\miniconda3\\envs\\langchain_part_1\\lib\\site-packages (from langsmith<0.4,>=0.1.126->langchain-core) (0.28.1)\n",
      "Collecting orjson<4.0.0,>=3.9.14 (from langsmith<0.4,>=0.1.126->langchain-core)\n",
      "  Downloading orjson-3.10.18-cp312-cp312-win_amd64.whl.metadata (43 kB)\n",
      "Requirement already satisfied: requests<3,>=2 in c:\\users\\511-17\\miniconda3\\envs\\langchain_part_1\\lib\\site-packages (from langsmith<0.4,>=0.1.126->langchain-core) (2.32.3)\n",
      "Collecting requests-toolbelt<2.0.0,>=1.0.0 (from langsmith<0.4,>=0.1.126->langchain-core)\n",
      "  Using cached requests_toolbelt-1.0.0-py2.py3-none-any.whl.metadata (14 kB)\n",
      "Requirement already satisfied: zstandard<0.24.0,>=0.23.0 in c:\\users\\511-17\\miniconda3\\envs\\langchain_part_1\\lib\\site-packages (from langsmith<0.4,>=0.1.126->langchain-core) (0.23.0)\n",
      "Requirement already satisfied: anyio in c:\\users\\511-17\\miniconda3\\envs\\langchain_part_1\\lib\\site-packages (from httpx<1,>=0.23.0->langsmith<0.4,>=0.1.126->langchain-core) (4.9.0)\n",
      "Requirement already satisfied: certifi in c:\\users\\511-17\\miniconda3\\envs\\langchain_part_1\\lib\\site-packages (from httpx<1,>=0.23.0->langsmith<0.4,>=0.1.126->langchain-core) (2025.4.26)\n",
      "Requirement already satisfied: httpcore==1.* in c:\\users\\511-17\\miniconda3\\envs\\langchain_part_1\\lib\\site-packages (from httpx<1,>=0.23.0->langsmith<0.4,>=0.1.126->langchain-core) (1.0.9)\n",
      "Requirement already satisfied: idna in c:\\users\\511-17\\miniconda3\\envs\\langchain_part_1\\lib\\site-packages (from httpx<1,>=0.23.0->langsmith<0.4,>=0.1.126->langchain-core) (3.10)\n",
      "Requirement already satisfied: h11>=0.16 in c:\\users\\511-17\\miniconda3\\envs\\langchain_part_1\\lib\\site-packages (from httpcore==1.*->httpx<1,>=0.23.0->langsmith<0.4,>=0.1.126->langchain-core) (0.16.0)\n",
      "Collecting annotated-types>=0.6.0 (from pydantic>=2.7.4->langchain-core)\n",
      "  Using cached annotated_types-0.7.0-py3-none-any.whl.metadata (15 kB)\n",
      "Collecting pydantic-core==2.33.2 (from pydantic>=2.7.4->langchain-core)\n",
      "  Downloading pydantic_core-2.33.2-cp312-cp312-win_amd64.whl.metadata (6.9 kB)\n",
      "Collecting typing-inspection>=0.4.0 (from pydantic>=2.7.4->langchain-core)\n",
      "  Downloading typing_inspection-0.4.1-py3-none-any.whl.metadata (2.6 kB)\n",
      "Requirement already satisfied: charset_normalizer<4,>=2 in c:\\users\\511-17\\miniconda3\\envs\\langchain_part_1\\lib\\site-packages (from requests<3,>=2->langsmith<0.4,>=0.1.126->langchain-core) (3.4.2)\n",
      "Requirement already satisfied: urllib3<3,>=1.21.1 in c:\\users\\511-17\\miniconda3\\envs\\langchain_part_1\\lib\\site-packages (from requests<3,>=2->langsmith<0.4,>=0.1.126->langchain-core) (2.4.0)\n",
      "Collecting langchain-text-splitters<1.0.0,>=0.3.8 (from langchain)\n",
      "  Using cached langchain_text_splitters-0.3.8-py3-none-any.whl.metadata (1.9 kB)\n",
      "Collecting SQLAlchemy<3,>=1.4 (from langchain)\n",
      "  Downloading sqlalchemy-2.0.41-cp312-cp312-win_amd64.whl.metadata (9.8 kB)\n",
      "Collecting greenlet>=1 (from SQLAlchemy<3,>=1.4->langchain)\n",
      "  Downloading greenlet-3.2.2-cp312-cp312-win_amd64.whl.metadata (4.2 kB)\n",
      "Collecting openai<2.0.0,>=1.68.2 (from langchain-openai)\n",
      "  Downloading openai-1.82.0-py3-none-any.whl.metadata (25 kB)\n",
      "Collecting tiktoken<1,>=0.7 (from langchain-openai)\n",
      "  Using cached tiktoken-0.9.0-cp312-cp312-win_amd64.whl.metadata (6.8 kB)\n",
      "Collecting distro<2,>=1.7.0 (from openai<2.0.0,>=1.68.2->langchain-openai)\n",
      "  Using cached distro-1.9.0-py3-none-any.whl.metadata (6.8 kB)\n",
      "Collecting jiter<1,>=0.4.0 (from openai<2.0.0,>=1.68.2->langchain-openai)\n",
      "  Downloading jiter-0.10.0-cp312-cp312-win_amd64.whl.metadata (5.3 kB)\n",
      "Requirement already satisfied: sniffio in c:\\users\\511-17\\miniconda3\\envs\\langchain_part_1\\lib\\site-packages (from openai<2.0.0,>=1.68.2->langchain-openai) (1.3.1)\n",
      "Collecting tqdm>4 (from openai<2.0.0,>=1.68.2->langchain-openai)\n",
      "  Using cached tqdm-4.67.1-py3-none-any.whl.metadata (57 kB)\n",
      "Collecting regex>=2022.1.18 (from tiktoken<1,>=0.7->langchain-openai)\n",
      "  Using cached regex-2024.11.6-cp312-cp312-win_amd64.whl.metadata (41 kB)\n",
      "Requirement already satisfied: colorama in c:\\users\\511-17\\miniconda3\\envs\\langchain_part_1\\lib\\site-packages (from tqdm>4->openai<2.0.0,>=1.68.2->langchain-openai) (0.4.6)\n",
      "Downloading langchain_core-0.3.61-py3-none-any.whl (438 kB)\n",
      "Using cached jsonpatch-1.33-py2.py3-none-any.whl (12 kB)\n",
      "Downloading langsmith-0.3.42-py3-none-any.whl (360 kB)\n",
      "Downloading orjson-3.10.18-cp312-cp312-win_amd64.whl (134 kB)\n",
      "Using cached packaging-24.2-py3-none-any.whl (65 kB)\n",
      "Downloading pydantic-2.11.5-py3-none-any.whl (444 kB)\n",
      "Downloading pydantic_core-2.33.2-cp312-cp312-win_amd64.whl (2.0 MB)\n",
      "   ---------------------------------------- 0.0/2.0 MB ? eta -:--:--\n",
      "   ---------------------------------------- 2.0/2.0 MB 26.9 MB/s eta 0:00:00\n",
      "Using cached requests_toolbelt-1.0.0-py2.py3-none-any.whl (54 kB)\n",
      "Using cached tenacity-9.1.2-py3-none-any.whl (28 kB)\n",
      "Downloading langchain-0.3.25-py3-none-any.whl (1.0 MB)\n",
      "   ---------------------------------------- 0.0/1.0 MB ? eta -:--:--\n",
      "   ---------------------------------------- 1.0/1.0 MB 46.8 MB/s eta 0:00:00\n",
      "Using cached langchain_text_splitters-0.3.8-py3-none-any.whl (32 kB)\n",
      "Downloading sqlalchemy-2.0.41-cp312-cp312-win_amd64.whl (2.1 MB)\n",
      "   ---------------------------------------- 0.0/2.1 MB ? eta -:--:--\n",
      "   ---------------------------------------- 2.1/2.1 MB 57.8 MB/s eta 0:00:00\n",
      "Downloading langchain_openai-0.3.18-py3-none-any.whl (63 kB)\n",
      "Downloading openai-1.82.0-py3-none-any.whl (720 kB)\n",
      "   ---------------------------------------- 0.0/720.4 kB ? eta -:--:--\n",
      "   --------------------------------------- 720.4/720.4 kB 30.6 MB/s eta 0:00:00\n",
      "Using cached distro-1.9.0-py3-none-any.whl (20 kB)\n",
      "Downloading jiter-0.10.0-cp312-cp312-win_amd64.whl (206 kB)\n",
      "Using cached tiktoken-0.9.0-cp312-cp312-win_amd64.whl (894 kB)\n",
      "Using cached python_dotenv-1.1.0-py3-none-any.whl (20 kB)\n",
      "Using cached annotated_types-0.7.0-py3-none-any.whl (13 kB)\n",
      "Downloading greenlet-3.2.2-cp312-cp312-win_amd64.whl (296 kB)\n",
      "Using cached regex-2024.11.6-cp312-cp312-win_amd64.whl (273 kB)\n",
      "Using cached tqdm-4.67.1-py3-none-any.whl (78 kB)\n",
      "Downloading typing_inspection-0.4.1-py3-none-any.whl (14 kB)\n",
      "Installing collected packages: typing-inspection, tqdm, tenacity, regex, python-dotenv, pydantic-core, packaging, orjson, jsonpatch, jiter, greenlet, distro, annotated-types, tiktoken, SQLAlchemy, requests-toolbelt, pydantic, openai, langsmith, langchain-core, langchain-text-splitters, langchain-openai, langchain\n",
      "\n",
      "   ----- ----------------------------------  3/23 [regex]\n",
      "  Attempting uninstall: packaging\n",
      "   ----- ----------------------------------  3/23 [regex]\n",
      "    Found existing installation: packaging 25.0\n",
      "   ----- ----------------------------------  3/23 [regex]\n",
      "    Uninstalling packaging-25.0:\n",
      "   ----- ----------------------------------  3/23 [regex]\n",
      "      Successfully uninstalled packaging-25.0\n",
      "   ----- ----------------------------------  3/23 [regex]\n",
      "   ----------------- ---------------------- 10/23 [greenlet]\n",
      "   ------------------------ --------------- 14/23 [SQLAlchemy]\n",
      "   ------------------------ --------------- 14/23 [SQLAlchemy]\n",
      "   ------------------------ --------------- 14/23 [SQLAlchemy]\n",
      "   ------------------------ --------------- 14/23 [SQLAlchemy]\n",
      "   ------------------------ --------------- 14/23 [SQLAlchemy]\n",
      "   ------------------------ --------------- 14/23 [SQLAlchemy]\n",
      "   -------------------------- ------------- 15/23 [requests-toolbelt]\n",
      "   --------------------------- ------------ 16/23 [pydantic]\n",
      "   --------------------------- ------------ 16/23 [pydantic]\n",
      "   ----------------------------- ---------- 17/23 [openai]\n",
      "   ----------------------------- ---------- 17/23 [openai]\n",
      "   ----------------------------- ---------- 17/23 [openai]\n",
      "   ----------------------------- ---------- 17/23 [openai]\n",
      "   ----------------------------- ---------- 17/23 [openai]\n",
      "   ------------------------------- -------- 18/23 [langsmith]\n",
      "   --------------------------------- ------ 19/23 [langchain-core]\n",
      "   --------------------------------- ------ 19/23 [langchain-core]\n",
      "   ------------------------------------ --- 21/23 [langchain-openai]\n",
      "   -------------------------------------- - 22/23 [langchain]\n",
      "   -------------------------------------- - 22/23 [langchain]\n",
      "   -------------------------------------- - 22/23 [langchain]\n",
      "   -------------------------------------- - 22/23 [langchain]\n",
      "   -------------------------------------- - 22/23 [langchain]\n",
      "   -------------------------------------- - 22/23 [langchain]\n",
      "   -------------------------------------- - 22/23 [langchain]\n",
      "   -------------------------------------- - 22/23 [langchain]\n",
      "   -------------------------------------- - 22/23 [langchain]\n",
      "   -------------------------------------- - 22/23 [langchain]\n",
      "   ---------------------------------------- 23/23 [langchain]\n",
      "\n",
      "Successfully installed SQLAlchemy-2.0.41 annotated-types-0.7.0 distro-1.9.0 greenlet-3.2.2 jiter-0.10.0 jsonpatch-1.33 langchain-0.3.25 langchain-core-0.3.61 langchain-openai-0.3.18 langchain-text-splitters-0.3.8 langsmith-0.3.42 openai-1.82.0 orjson-3.10.18 packaging-24.2 pydantic-2.11.5 pydantic-core-2.33.2 python-dotenv-1.1.0 regex-2024.11.6 requests-toolbelt-1.0.0 tenacity-9.1.2 tiktoken-0.9.0 tqdm-4.67.1 typing-inspection-0.4.1\n",
      "Note: you may need to restart the kernel to use updated packages.\n"
     ]
    }
   ],
   "source": [
    "%pip install langchain-core langchain langchain-openai python-dotenv"
   ]
  },
  {
   "cell_type": "code",
   "execution_count": null,
   "id": "093592e1",
   "metadata": {},
   "outputs": [
    {
     "data": {
      "text/plain": [
       "'sk-proj-Do'"
      ]
     },
     "execution_count": 3,
     "metadata": {},
     "output_type": "execute_result"
    }
   ],
   "source": [
    "from dotenv import load_dotenv\n",
    "import os\n",
    "# .env 파일을 만들어서 OPENAI_API_KEY= ... 형태로 작성되어야 함\n",
    "load_dotenv()\n",
    "os.getenv('OPENAI_API_KEY')[:10]"
   ]
  },
  {
   "cell_type": "code",
   "execution_count": 4,
   "id": "c334fe91",
   "metadata": {},
   "outputs": [
    {
     "name": "stdout",
     "output_type": "stream",
     "text": [
      "What is a good name for a company that makes coffee?\n"
     ]
    }
   ],
   "source": [
    "from langchain_core.prompts import PromptTemplate\n",
    "\n",
    "# 프롬프트 템플릿 정의: {product} 부분이 이후에 채워질 플레이스홀더입니다.\n",
    "template = \"What is a good name for a company that makes {product}?\"\n",
    "prompt = PromptTemplate.from_template(template)\n",
    "\n",
    "# 템플릿에 값을 채워 실제 프롬프트 생성\n",
    "formatted_prompt = prompt.format(product=\"coffee\")\n",
    "print(formatted_prompt)"
   ]
  },
  {
   "cell_type": "code",
   "execution_count": 6,
   "id": "db5170e0",
   "metadata": {},
   "outputs": [
    {
     "name": "stdout",
     "output_type": "stream",
     "text": [
      "커피라는 만드는 회사 이름으로 어떤게 좋을까?\n"
     ]
    }
   ],
   "source": [
    "from langchain_core.prompts import PromptTemplate\n",
    "\n",
    "# 프롬프트 템플릿 정의: {product} 부분이 이후에 채워질 플레이스홀더입니다.\n",
    "template = \"{product}라는 만드는 회사 이름으로 어떤게 좋을까?\"\n",
    "prompt = PromptTemplate.from_template(template)\n",
    "\n",
    "# 템플릿에 값을 채워 실제 프롬프트 생성\n",
    "formatted_prompt = prompt.format(product=\"커피\")\n",
    "print(formatted_prompt)"
   ]
  },
  {
   "cell_type": "code",
   "execution_count": null,
   "id": "88e494a7",
   "metadata": {},
   "outputs": [],
   "source": []
  }
 ],
 "metadata": {
  "kernelspec": {
   "display_name": "langchain_part_1",
   "language": "python",
   "name": "python3"
  },
  "language_info": {
   "codemirror_mode": {
    "name": "ipython",
    "version": 3
   },
   "file_extension": ".py",
   "mimetype": "text/x-python",
   "name": "python",
   "nbconvert_exporter": "python",
   "pygments_lexer": "ipython3",
   "version": "3.12.10"
  }
 },
 "nbformat": 4,
 "nbformat_minor": 5
}
